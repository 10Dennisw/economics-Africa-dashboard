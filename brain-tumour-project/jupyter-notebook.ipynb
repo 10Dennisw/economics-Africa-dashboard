{
 "cells": [
  {
   "cell_type": "code",
   "execution_count": 25,
   "metadata": {},
   "outputs": [],
   "source": [
    "import pandas as pd\n",
    "import numpy as np\n",
    "from glob import glob\n",
    "import cv2\n",
    "import matplotlib.pylab as plt"
   ]
  },
  {
   "cell_type": "code",
   "execution_count": 26,
   "metadata": {},
   "outputs": [],
   "source": [
    "glioma_tumour_files = glob(r'C:\\Users\\denni\\OneDrive\\Desktop\\brain-tumour-project\\Brain-Tumor-Classification-DataSet\\Training\\glioma_tumor/*.jpg')\n",
    "meningioma_tumor_files = glob(r'C:\\Users\\denni\\OneDrive\\Desktop\\brain-tumour-project\\Brain-Tumor-Classification-DataSet\\Training\\meningioma_tumor/*.jpg')\n",
    "no_tumour_files = glob(r'C:\\Users\\denni\\OneDrive\\Desktop\\brain-tumour-project\\Brain-Tumor-Classification-DataSet\\Training\\no_tumor/*.jpg')\n",
    "pituitary_tumor_file = glob(r'C:\\Users\\denni\\OneDrive\\Desktop\\brain-tumour-project\\Brain-Tumor-Classification-DataSet\\Training\\pituitary_tumor/*.jpg')"
   ]
  },
  {
   "cell_type": "code",
   "execution_count": 27,
   "metadata": {},
   "outputs": [],
   "source": [
    "def reading_images(link_list):\n",
    "    lst = []\n",
    "    for image_idx in range(len(link_list)):\n",
    "        image_array = plt.imread(link_list[image_idx])\n",
    "        lst.append(image_array)\n",
    "    return lst\n",
    "\n",
    "glioma_images_lst = reading_images(glioma_tumour_files)\n",
    "menigioma_images_lst = reading_images(meningioma_tumor_files)\n",
    "no_tumour_images_lst = reading_images(no_tumour_files)\n",
    "pituitary_images_lst = reading_images(pituitary_tumor_file)"
   ]
  },
  {
   "cell_type": "code",
   "execution_count": 28,
   "metadata": {},
   "outputs": [
    {
     "name": "stdout",
     "output_type": "stream",
     "text": [
      "Number of glioma tumours are 826\n",
      "Number of menigioma tumours are 822\n",
      "Number of no tumours are 395\n",
      "Number of pituitary tumours are 827\n"
     ]
    }
   ],
   "source": [
    "print(\"Number of glioma tumours are\",len(glioma_images_lst))\n",
    "print(\"Number of menigioma tumours are\",len(menigioma_images_lst))\n",
    "print(\"Number of no tumours are\",len(no_tumour_images_lst))\n",
    "print(\"Number of pituitary tumours are\",len(pituitary_images_lst))"
   ]
  },
  {
   "cell_type": "code",
   "execution_count": 29,
   "metadata": {},
   "outputs": [],
   "source": [
    "classes =['glioma-tumour', 'menigioma-tumour', 'no-tumour', 'pituitary-tumour']\n",
    "true_labels = []\n",
    "true_labels += [0]*len(glioma_images_lst)\n",
    "true_labels += [1]*len(menigioma_images_lst)\n",
    "true_labels += [2]*len(no_tumour_images_lst)\n",
    "true_labels += [3]*len(pituitary_images_lst)"
   ]
  },
  {
   "cell_type": "code",
   "execution_count": 30,
   "metadata": {},
   "outputs": [],
   "source": [
    "all_images_lst = glioma_images_lst + menigioma_images_lst + no_tumour_images_lst + pituitary_images_lst"
   ]
  },
  {
   "cell_type": "code",
   "execution_count": 31,
   "metadata": {},
   "outputs": [
    {
     "name": "stdout",
     "output_type": "stream",
     "text": [
      "The number of different shapes are 361\n"
     ]
    }
   ],
   "source": [
    "unique_lst=[]\n",
    "for i in range(len(all_images_lst)):\n",
    "    if all_images_lst[i].shape not in unique_lst: \n",
    "        unique_lst.append(all_images_lst[i].shape)\n",
    "print(\"The number of different shapes are\",len(unique_lst))"
   ]
  },
  {
   "cell_type": "code",
   "execution_count": 32,
   "metadata": {},
   "outputs": [],
   "source": [
    "def resize_images(image_list, target_size):\n",
    "    for i in range(len(image_list)):\n",
    "        image = image_list[i]\n",
    "        image_list[i] = cv2.resize(image, target_size)\n",
    "\n",
    "target_size = (256, 256)  # Set your desired dimensions\n",
    "\n",
    "resize_images(all_images_lst, target_size)"
   ]
  },
  {
   "cell_type": "code",
   "execution_count": 33,
   "metadata": {},
   "outputs": [
    {
     "name": "stdout",
     "output_type": "stream",
     "text": [
      "The number of different shapes are 1\n"
     ]
    }
   ],
   "source": [
    "unique_lst=[]\n",
    "for i in range(len(all_images_lst)):\n",
    "    if all_images_lst[i].shape not in unique_lst: \n",
    "        unique_lst.append(all_images_lst[i].shape)\n",
    "print(\"The number of different shapes are\",len(unique_lst))"
   ]
  },
  {
   "cell_type": "code",
   "execution_count": 39,
   "metadata": {},
   "outputs": [],
   "source": [
    "all_images_array = np.array(all_images_lst)"
   ]
  },
  {
   "cell_type": "code",
   "execution_count": 34,
   "metadata": {},
   "outputs": [],
   "source": [
    "true_labels = [[value] for value in true_labels]\n",
    "true_labels = np.array(true_labels, dtype=np.uint8)\n",
    "true_labels = true_labels.reshape(-1,)"
   ]
  },
  {
   "cell_type": "code",
   "execution_count": 41,
   "metadata": {},
   "outputs": [],
   "source": [
    "# creating split\n",
    "from sklearn.model_selection import train_test_split\n",
    "X_train, X_test, y_train, y_test = train_test_split(all_images_array, true_labels, test_size=0.3, random_state=42)"
   ]
  },
  {
   "cell_type": "code",
   "execution_count": 43,
   "metadata": {},
   "outputs": [
    {
     "name": "stdout",
     "output_type": "stream",
     "text": [
      "WARNING:tensorflow:From c:\\Users\\denni\\anaconda3\\Lib\\site-packages\\keras\\src\\losses.py:2976: The name tf.losses.sparse_softmax_cross_entropy is deprecated. Please use tf.compat.v1.losses.sparse_softmax_cross_entropy instead.\n",
      "\n"
     ]
    }
   ],
   "source": [
    "import tensorflow as tf\n",
    "import numpy as np\n",
    "from tensorflow.keras import layers, models"
   ]
  },
  {
   "cell_type": "code",
   "execution_count": 44,
   "metadata": {},
   "outputs": [
    {
     "name": "stdout",
     "output_type": "stream",
     "text": [
      "WARNING:tensorflow:From c:\\Users\\denni\\anaconda3\\Lib\\site-packages\\keras\\src\\backend.py:873: The name tf.get_default_graph is deprecated. Please use tf.compat.v1.get_default_graph instead.\n",
      "\n",
      "WARNING:tensorflow:From c:\\Users\\denni\\anaconda3\\Lib\\site-packages\\keras\\src\\layers\\pooling\\max_pooling2d.py:161: The name tf.nn.max_pool is deprecated. Please use tf.nn.max_pool2d instead.\n",
      "\n"
     ]
    }
   ],
   "source": [
    "model = models.Sequential()\n",
    "model.add(layers.Conv2D(32, (3, 3), activation='relu', input_shape=(256, 256, 3)))\n",
    "model.add(layers.MaxPooling2D((2, 2)))\n",
    "model.add(layers.Conv2D(64, (3, 3), activation='relu'))\n",
    "model.add(layers.MaxPooling2D((2, 2)))\n",
    "model.add(layers.Flatten())\n",
    "model.add(layers.Dense(128, activation='relu'))\n",
    "model.add(layers.Dense(4, activation='softmax'))"
   ]
  },
  {
   "cell_type": "code",
   "execution_count": 47,
   "metadata": {},
   "outputs": [],
   "source": [
    "model.compile(optimizer='adam', loss='sparse_categorical_crossentropy', metrics=['accuracy'])"
   ]
  },
  {
   "cell_type": "code",
   "execution_count": 48,
   "metadata": {},
   "outputs": [
    {
     "name": "stdout",
     "output_type": "stream",
     "text": [
      "Epoch 1/10\n",
      "WARNING:tensorflow:From c:\\Users\\denni\\anaconda3\\Lib\\site-packages\\keras\\src\\utils\\tf_utils.py:492: The name tf.ragged.RaggedTensorValue is deprecated. Please use tf.compat.v1.ragged.RaggedTensorValue instead.\n",
      "\n",
      "WARNING:tensorflow:From c:\\Users\\denni\\anaconda3\\Lib\\site-packages\\keras\\src\\engine\\base_layer_utils.py:384: The name tf.executing_eagerly_outside_functions is deprecated. Please use tf.compat.v1.executing_eagerly_outside_functions instead.\n",
      "\n",
      "32/32 [==============================] - 78s 2s/step - loss: 426.0528 - accuracy: 0.4520 - val_loss: 0.8515 - val_accuracy: 0.6818\n",
      "Epoch 2/10\n",
      "32/32 [==============================] - 74s 2s/step - loss: 0.5476 - accuracy: 0.8133 - val_loss: 0.5770 - val_accuracy: 0.7933\n",
      "Epoch 3/10\n",
      "32/32 [==============================] - 75s 2s/step - loss: 0.2145 - accuracy: 0.9253 - val_loss: 0.5103 - val_accuracy: 0.8537\n",
      "Epoch 4/10\n",
      "32/32 [==============================] - 74s 2s/step - loss: 0.0532 - accuracy: 0.9841 - val_loss: 0.6532 - val_accuracy: 0.8769\n",
      "Epoch 5/10\n",
      "32/32 [==============================] - 75s 2s/step - loss: 0.0152 - accuracy: 0.9960 - val_loss: 0.5892 - val_accuracy: 0.8955\n",
      "Epoch 6/10\n",
      "32/32 [==============================] - 74s 2s/step - loss: 0.0063 - accuracy: 0.9990 - val_loss: 0.7144 - val_accuracy: 0.8897\n",
      "Epoch 7/10\n",
      "32/32 [==============================] - 74s 2s/step - loss: 0.0036 - accuracy: 0.9990 - val_loss: 0.7628 - val_accuracy: 0.8966\n",
      "Epoch 8/10\n",
      "32/32 [==============================] - 74s 2s/step - loss: 0.0059 - accuracy: 0.9970 - val_loss: 0.8641 - val_accuracy: 0.8630\n",
      "Epoch 9/10\n",
      "32/32 [==============================] - 73s 2s/step - loss: 0.0158 - accuracy: 0.9950 - val_loss: 0.6967 - val_accuracy: 0.8792\n",
      "Epoch 10/10\n",
      "32/32 [==============================] - 76s 2s/step - loss: 0.0083 - accuracy: 0.9980 - val_loss: 0.6903 - val_accuracy: 0.8862\n"
     ]
    },
    {
     "data": {
      "text/plain": [
       "<keras.src.callbacks.History at 0x28b5e94dd90>"
      ]
     },
     "execution_count": 48,
     "metadata": {},
     "output_type": "execute_result"
    }
   ],
   "source": [
    "model.fit(X_train, y_train, epochs=10, batch_size=64, validation_data=(X_test, y_test))"
   ]
  },
  {
   "cell_type": "code",
   "execution_count": 50,
   "metadata": {},
   "outputs": [
    {
     "name": "stdout",
     "output_type": "stream",
     "text": [
      "27/27 [==============================] - 5s 168ms/step - loss: 0.6903 - accuracy: 0.8862\n"
     ]
    },
    {
     "data": {
      "text/plain": [
       "[0.69031822681427, 0.8861788511276245]"
      ]
     },
     "execution_count": 50,
     "metadata": {},
     "output_type": "execute_result"
    }
   ],
   "source": [
    "model.evaluate(X_test,y_test)"
   ]
  },
  {
   "cell_type": "code",
   "execution_count": 51,
   "metadata": {},
   "outputs": [
    {
     "name": "stdout",
     "output_type": "stream",
     "text": [
      "27/27 [==============================] - 5s 170ms/step\n",
      "Classification Report: \n",
      "               precision    recall  f1-score   support\n",
      "\n",
      "           0       0.93      0.93      0.93       259\n",
      "           1       0.81      0.84      0.83       252\n",
      "           2       0.85      0.70      0.77       114\n",
      "           3       0.93      0.98      0.95       236\n",
      "\n",
      "    accuracy                           0.89       861\n",
      "   macro avg       0.88      0.86      0.87       861\n",
      "weighted avg       0.89      0.89      0.88       861\n",
      "\n"
     ]
    }
   ],
   "source": [
    "from sklearn.metrics import confusion_matrix , classification_report\n",
    "y_pred = model.predict(X_test)\n",
    "y_pred_classes = [np.argmax(element) for element in y_pred]\n",
    "\n",
    "print(\"Classification Report: \\n\", classification_report(y_test, y_pred_classes))"
   ]
  }
 ],
 "metadata": {
  "kernelspec": {
   "display_name": "base",
   "language": "python",
   "name": "python3"
  },
  "language_info": {
   "codemirror_mode": {
    "name": "ipython",
    "version": 3
   },
   "file_extension": ".py",
   "mimetype": "text/x-python",
   "name": "python",
   "nbconvert_exporter": "python",
   "pygments_lexer": "ipython3",
   "version": "3.11.5"
  }
 },
 "nbformat": 4,
 "nbformat_minor": 2
}
